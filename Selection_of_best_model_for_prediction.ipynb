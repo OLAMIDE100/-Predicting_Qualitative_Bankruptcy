{
 "cells": [
  {
   "cell_type": "code",
   "execution_count": 1,
   "metadata": {},
   "outputs": [],
   "source": [
    "import numpy as np\n",
    "import matplotlib.pyplot as plt\n",
    "from sklearn.naive_bayes import BernoulliNB, ComplementNB, MultinomialNB,GaussianNB\n",
    "from sklearn.utils.extmath import density\n",
    "from sklearn import metrics\n",
    "import seaborn as sns\n",
    "import pandas as pd\n",
    "from sklearn import metrics"
   ]
  },
  {
   "cell_type": "code",
   "execution_count": 2,
   "metadata": {},
   "outputs": [],
   "source": [
    "data = pd.read_csv(r'C:\\Users\\OLAMIDE\\Desktop\\MACHINE_LEARNING_PROJECTS\\Qualitative_Bankruptcy.csv',header=None)\n",
    "columns_names = ['Industrial Risk','Management Risk', 'Financial Flexibility', 'Credibility','Competitiveness',\n",
    "               'Operating Risk','Class']\n",
    "data.columns = columns_names"
   ]
  },
  {
   "cell_type": "code",
   "execution_count": 3,
   "metadata": {},
   "outputs": [],
   "source": [
    "b = []\n",
    "from sklearn import preprocessing\n",
    "encoder = preprocessing.LabelEncoder()\n",
    "for i in data[columns_names]:\n",
    "    i = data[i]\n",
    "    i_encoded = encoder.fit_transform(i)\n",
    "    b.append(i_encoded)\n",
    "new_data = pd.DataFrame(b)\n",
    "encoded_data = new_data.transpose()\n",
    "encoded_data.columns = columns_names"
   ]
  },
  {
   "cell_type": "code",
   "execution_count": 4,
   "metadata": {},
   "outputs": [],
   "source": [
    "features = encoded_data.drop('Class', axis=1)\n",
    "Class = encoded_data['Class']"
   ]
  },
  {
   "cell_type": "code",
   "execution_count": 5,
   "metadata": {},
   "outputs": [],
   "source": [
    "from sklearn.model_selection import train_test_split\n",
    "featurestrain, featurestest, Classtrain, Classtest = train_test_split(features,Class,\n",
    "                                                random_state=1)"
   ]
  },
  {
   "cell_type": "code",
   "execution_count": 6,
   "metadata": {},
   "outputs": [
    {
     "name": "stdout",
     "output_type": "stream",
     "text": [
      "================================================================================\n",
      "Naive Bayes\n",
      "________________________________________________________________________________\n",
      "Training: \n",
      "MultinomialNB(alpha=0.01)\n",
      "Predicted Value: [1]\n",
      "accuracy:   0.508\n",
      "________________________________________________________________________________\n",
      "Training: \n",
      "BernoulliNB(alpha=0.01)\n",
      "Predicted Value: [1]\n",
      "accuracy:   0.794\n",
      "________________________________________________________________________________\n",
      "Training: \n",
      "ComplementNB(alpha=0.1)\n",
      "Predicted Value: [0]\n",
      "accuracy:   0.587\n",
      "________________________________________________________________________________\n",
      "Training: \n",
      "GaussianNB()\n",
      "Predicted Value: [1]\n",
      "accuracy:   0.984\n"
     ]
    }
   ],
   "source": [
    "def benchmark(clf):\n",
    "    print('_' * 80)\n",
    "    print(\"Training: \")\n",
    "    print(clf)\n",
    "    clf.fit(featurestrain, Classtrain)\n",
    "    \n",
    "    Class_model = clf.predict(featurestest)\n",
    "    \n",
    "    predicted = clf.predict([[2,2,0,0,0,2]])\n",
    "    print(\"Predicted Value:\", predicted)\n",
    "\n",
    "    score = metrics.accuracy_score(Classtest, Class_model)\n",
    "    print(\"accuracy:   %0.3f\" % score)\n",
    "    \n",
    "    clf_descr = str(clf).split('(')[0]\n",
    "    return clf_descr, score\n",
    "\n",
    "results = []\n",
    "\n",
    "print('=' * 80)\n",
    "print(\"Naive Bayes\")\n",
    "results.append(benchmark(MultinomialNB(alpha=.01)))\n",
    "results.append(benchmark(BernoulliNB(alpha=.01)))\n",
    "results.append(benchmark(ComplementNB(alpha=.1)))\n",
    "results.append(benchmark(GaussianNB()))\n",
    "\n"
   ]
  },
  {
   "cell_type": "code",
   "execution_count": 7,
   "metadata": {},
   "outputs": [
    {
     "data": {
      "image/png": "[encoded data removed]",
      "text/plain": [
       "<Figure size 864x576 with 1 Axes>"
      ]
     },
     "metadata": {
      "needs_background": "light"
     },
     "output_type": "display_data"
    }
   ],
   "source": [
    "indices = np.arange(len(results))\n",
    "\n",
    "results = [[x[i] for x in results] for i in range(2)]\n",
    "\n",
    "clf_names,score = results\n",
    "\n",
    "\n",
    "plt.figure(figsize=(12, 8))\n",
    "plt.title(\"Score\")\n",
    "plt.barh(indices,score, .2, label=\"score\", color='navy')\n",
    "\n",
    "plt.yticks(())\n",
    "plt.legend(loc='best')\n",
    "plt.subplots_adjust(left=.25)\n",
    "plt.subplots_adjust(top=.95)\n",
    "plt.subplots_adjust(bottom=.05)\n",
    "\n",
    "for i, c in zip(indices, clf_names):\n",
    "    plt.text(-.3, i, c)\n",
    "\n",
    "plt.show()"
   ]
  },
  {
   "cell_type": "markdown",
   "metadata": {},
   "source": [
    "therefore GAUSSIANNB WILL BE DEPLOYED AS OUR GENERATIVE MODEL UNDER CLASSIFICATION"
   ]
  }
 ],
 "metadata": {
  "kernelspec": {
   "display_name": "Python 3",
   "language": "python",
   "name": "python3"
  },
  "language_info": {
   "codemirror_mode": {
    "name": "ipython",
    "version": 3
   },
   "file_extension": ".py",
   "mimetype": "text/x-python",
   "name": "python",
   "nbconvert_exporter": "python",
   "pygments_lexer": "ipython3",
   "version": "3.8.5"
  }
 },
 "nbformat": 4,
 "nbformat_minor": 4
}
